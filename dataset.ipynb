{
 "cells": [
  {
   "cell_type": "code",
   "execution_count": 22,
   "metadata": {},
   "outputs": [],
   "source": [
    "import os, os.path\n",
    "from os import listdir\n",
    "import numpy as np\n",
    "import torch\n",
    "import torch.nn as nn\n",
    "import torch.nn.functional as F\n",
    "from torch.utils.data import DataLoader, Dataset\n",
    "from torchvision import models, transforms\n",
    "from torchvision.utils import save_image, make_grid\n",
    "from PIL import Image\n",
    "from IPython.display import display\n",
    "from utilities import *"
   ]
  },
  {
   "cell_type": "code",
   "execution_count": 23,
   "metadata": {},
   "outputs": [],
   "source": [
    "data_path = './data/'\n",
    "images_path = './data/images/'"
   ]
  },
  {
   "cell_type": "code",
   "execution_count": 38,
   "metadata": {},
   "outputs": [
    {
     "data": {
      "image/jpeg": "[encoded data removed]",
      "image/png": "[encoded data removed]",
      "text/plain": [
       "<PIL.Image.Image image mode=RGB size=28x28>"
      ]
     },
     "metadata": {},
     "output_type": "display_data"
    }
   ],
   "source": [
    "# test image conversion (RGBA with a=0 -> RGB with white background)\n",
    "# open the image and convert it to RGBA\n",
    "image = Image.open(images_path + 'dragonite.png').convert('RGBA')\n",
    "# convert to RGB with white background\n",
    "rgb_image = rgba_to_rgb_with_white_background(image)\n",
    "rgb_image = rgb_image.resize((28, 28))\n",
    "rgb_image.save('test.png')\n",
    "display(rgb_image)"
   ]
  },
  {
   "cell_type": "code",
   "execution_count": 33,
   "metadata": {},
   "outputs": [],
   "source": [
    "# create dataset\n",
    "images = []\n",
    "labels = []\n",
    "for image_name in os.listdir(images_path):\n",
    "    # images\n",
    "    image = Image.open(images_path + image_name)\n",
    "    rgb_image = rgba_to_rgb_with_white_background(image)\n",
    "    rgb_image_small = rgb_image.resize((28,28),Image.LANCZOS)\n",
    "    image_array = np.asarray(rgb_image_small)\n",
    "    images.append(image_array)\n",
    "    all_images_array = np.stack(images, axis=0)\n",
    "    # labels\n",
    "    labels.append(np.zeros(18)) # 0 for now\n",
    "    all_labels_array = np.stack(labels, axis=0)\n",
    "    # save dataset\n",
    "    with open(data_path + 'images.npy', 'wb') as f:\n",
    "        np.save(f, all_images_array)\n",
    "    with open(data_path + 'labels.npy', 'wb') as f:\n",
    "        np.save(f, all_labels_array)"
   ]
  },
  {
   "cell_type": "code",
   "execution_count": 34,
   "metadata": {},
   "outputs": [
    {
     "name": "stdout",
     "output_type": "stream",
     "text": [
      "(809, 28, 28, 3)\n",
      "(809, 18)\n"
     ]
    }
   ],
   "source": [
    "# check dataset creation\n",
    "all_images_array = np.load(data_path + 'images.npy', mmap_mode=\"r\")\n",
    "all_labels_array = np.load(data_path + 'labels.npy', mmap_mode=\"r\")\n",
    "print(all_images_array.shape) # should be (809, 16, 16, 3)\n",
    "print(all_labels_array.shape) # should be (809, 18)"
   ]
  }
 ],
 "metadata": {
  "kernelspec": {
   "display_name": "ml",
   "language": "python",
   "name": "python3"
  },
  "language_info": {
   "codemirror_mode": {
    "name": "ipython",
    "version": 3
   },
   "file_extension": ".py",
   "mimetype": "text/x-python",
   "name": "python",
   "nbconvert_exporter": "python",
   "pygments_lexer": "ipython3",
   "version": "3.10.14"
  }
 },
 "nbformat": 4,
 "nbformat_minor": 2
}
